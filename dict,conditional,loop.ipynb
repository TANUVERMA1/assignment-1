{
 "cells": [
  {
   "cell_type": "code",
   "execution_count": 2,
   "id": "4a7f762d-038a-4056-8811-e916438dcb8a",
   "metadata": {},
   "outputs": [],
   "source": [
    "d={}"
   ]
  },
  {
   "cell_type": "code",
   "execution_count": 3,
   "id": "449a71c0-313b-4675-bcd6-63108d32a6d1",
   "metadata": {},
   "outputs": [
    {
     "data": {
      "text/plain": [
       "dict"
      ]
     },
     "execution_count": 3,
     "metadata": {},
     "output_type": "execute_result"
    }
   ],
   "source": [
    "type(d)\n"
   ]
  },
  {
   "cell_type": "code",
   "execution_count": 5,
   "id": "f4caf723-bae7-4f48-9424-5364e6964674",
   "metadata": {},
   "outputs": [],
   "source": [
    "d1={\"key\":\"shudh\"}"
   ]
  },
  {
   "cell_type": "code",
   "execution_count": 6,
   "id": "5ea00f11-aaf5-47d3-ae37-90d7cd652ce3",
   "metadata": {},
   "outputs": [
    {
     "data": {
      "text/plain": [
       "{'key': 'shudh'}"
      ]
     },
     "execution_count": 6,
     "metadata": {},
     "output_type": "execute_result"
    }
   ],
   "source": [
    "d1"
   ]
  },
  {
   "cell_type": "code",
   "execution_count": 9,
   "id": "42812139-c61d-43d4-a562-d4aeeca117d0",
   "metadata": {},
   "outputs": [],
   "source": [
    "d2={\"name\":\"tanu\",\"email\":\"tanuv1665@gmail.com,\"}"
   ]
  },
  {
   "cell_type": "code",
   "execution_count": 10,
   "id": "08aab8c5-bbe8-4b97-9437-527b2f950305",
   "metadata": {},
   "outputs": [
    {
     "data": {
      "text/plain": [
       "{'name': 'tanu', 'email': 'tanuv1665@gmail.com,'}"
      ]
     },
     "execution_count": 10,
     "metadata": {},
     "output_type": "execute_result"
    }
   ],
   "source": [
    "d2"
   ]
  },
  {
   "cell_type": "code",
   "execution_count": 26,
   "id": "59b2a39c-0c0f-4665-8d28-5f0573ee127b",
   "metadata": {},
   "outputs": [],
   "source": [
    "d3={284:\"tanu\",'wer':\"verma\",True:3236}"
   ]
  },
  {
   "cell_type": "code",
   "execution_count": 12,
   "id": "a3ee8ec6-b909-4a1a-ba03-b213d69ce68d",
   "metadata": {},
   "outputs": [
    {
     "data": {
      "text/plain": [
       "{284: 'tanu'}"
      ]
     },
     "execution_count": 12,
     "metadata": {},
     "output_type": "execute_result"
    }
   ],
   "source": [
    "d3"
   ]
  },
  {
   "cell_type": "code",
   "execution_count": 20,
   "id": "ebb14c0a-110b-4928-ab56-6ca1c80cb6f0",
   "metadata": {},
   "outputs": [
    {
     "data": {
      "text/plain": [
       "'tanu'"
      ]
     },
     "execution_count": 20,
     "metadata": {},
     "output_type": "execute_result"
    }
   ],
   "source": [
    "d3[284]"
   ]
  },
  {
   "cell_type": "code",
   "execution_count": 27,
   "id": "a1c82a53-ce83-4a52-a175-a8948b404f66",
   "metadata": {},
   "outputs": [
    {
     "data": {
      "text/plain": [
       "3236"
      ]
     },
     "execution_count": 27,
     "metadata": {},
     "output_type": "execute_result"
    }
   ],
   "source": [
    "d3[1]"
   ]
  },
  {
   "cell_type": "code",
   "execution_count": 11,
   "id": "263b9555-8b23-4e0f-80ee-69dccf99f263",
   "metadata": {},
   "outputs": [],
   "source": [
    "D4={'name':\"TANU\",'EMAIL-ID':\"TANUV1665@GMAIL.COM\",\"name\":\"tny\"}\n",
    "    "
   ]
  },
  {
   "cell_type": "code",
   "execution_count": 13,
   "id": "3cc4cd7a-3d2c-40ed-bfc3-783e5a333cf6",
   "metadata": {},
   "outputs": [
    {
     "data": {
      "text/plain": [
       "'tny'"
      ]
     },
     "execution_count": 13,
     "metadata": {},
     "output_type": "execute_result"
    }
   ],
   "source": [
    "D4['name']"
   ]
  },
  {
   "cell_type": "code",
   "execution_count": 15,
   "id": "a46b4170-9779-442c-8a78-8c4c56566a61",
   "metadata": {},
   "outputs": [],
   "source": [
    "D5={\"COMPANY\":\"PWSKILLS\",\"COURSES\":[\"DATASCIENCE\",\"BUSINESSANALYST\",\"WEBDEV\"]}"
   ]
  },
  {
   "cell_type": "code",
   "execution_count": 16,
   "id": "a352e9ae-a5a0-4abf-8c5b-e2a43cc71f08",
   "metadata": {},
   "outputs": [
    {
     "data": {
      "text/plain": [
       "{'COMPANY': 'PWSKILLS',\n",
       " 'COURSES': ['DATASCIENCE', 'BUSINESSANALYST', 'WEBDEV']}"
      ]
     },
     "execution_count": 16,
     "metadata": {},
     "output_type": "execute_result"
    }
   ],
   "source": [
    "D5"
   ]
  },
  {
   "cell_type": "code",
   "execution_count": 17,
   "id": "48d81873-b6b6-4b25-9a5e-00f7545bf243",
   "metadata": {},
   "outputs": [
    {
     "data": {
      "text/plain": [
       "['DATASCIENCE', 'BUSINESSANALYST', 'WEBDEV']"
      ]
     },
     "execution_count": 17,
     "metadata": {},
     "output_type": "execute_result"
    }
   ],
   "source": [
    "D5[\"COURSES\"]"
   ]
  },
  {
   "cell_type": "code",
   "execution_count": 18,
   "id": "d8472783-6f57-44f5-88f2-0b28ada7e802",
   "metadata": {},
   "outputs": [
    {
     "data": {
      "text/plain": [
       "'WEBDEV'"
      ]
     },
     "execution_count": 18,
     "metadata": {},
     "output_type": "execute_result"
    }
   ],
   "source": [
    "D5[\"COURSES\"][2]"
   ]
  },
  {
   "cell_type": "code",
   "execution_count": 19,
   "id": "783a04b7-dcf8-4776-8f13-c684734ca068",
   "metadata": {},
   "outputs": [],
   "source": [
    "D6={\"NUMBER\":[2,34,3,34,34],\"ASSIGNMENT\":(1,2,3,4,5),\"LAUNCHDATE\":{28,12,14}}"
   ]
  },
  {
   "cell_type": "code",
   "execution_count": 20,
   "id": "a2815de5-25e2-49fa-8c6d-c7443a51fcc7",
   "metadata": {},
   "outputs": [
    {
     "data": {
      "text/plain": [
       "{'NUMBER': [2, 34, 3, 34, 34], 'ASSIGNMENT': (1, 2, 3, 4, 5)}"
      ]
     },
     "execution_count": 20,
     "metadata": {},
     "output_type": "execute_result"
    }
   ],
   "source": [
    "D6"
   ]
  },
  {
   "cell_type": "code",
   "execution_count": 25,
   "id": "75619730-c17f-4d63-87cc-6d89628490ef",
   "metadata": {},
   "outputs": [
    {
     "data": {
      "text/plain": [
       "(1, 2, 3, 4, 5)"
      ]
     },
     "execution_count": 25,
     "metadata": {},
     "output_type": "execute_result"
    }
   ],
   "source": [
    "D6[\"ASSIGNMENT\"]"
   ]
  },
  {
   "cell_type": "code",
   "execution_count": 32,
   "id": "4fdef7ce-abd7-4083-8b68-9ff624635443",
   "metadata": {},
   "outputs": [],
   "source": [
    "D6['mentor']=[\"shudhansu\",\"krish\",\"anurag\",\"hayder\"]"
   ]
  },
  {
   "cell_type": "code",
   "execution_count": 33,
   "id": "4ff85a91-6378-4097-a5f7-1d57e447a2bc",
   "metadata": {},
   "outputs": [
    {
     "data": {
      "text/plain": [
       "{'NUMBER': [2, 34, 3, 34, 34],\n",
       " 'ASSIGNMENT': (1, 2, 3, 4, 5),\n",
       " 'mentor': ['shudhansu', 'krish', 'anurag', 'hayder']}"
      ]
     },
     "execution_count": 33,
     "metadata": {},
     "output_type": "execute_result"
    }
   ],
   "source": [
    "D6"
   ]
  },
  {
   "cell_type": "code",
   "execution_count": 35,
   "id": "eccfd68d-2272-4d5f-8f01-9657264d7ac7",
   "metadata": {},
   "outputs": [],
   "source": [
    "del D6['NUMBER']"
   ]
  },
  {
   "cell_type": "code",
   "execution_count": 36,
   "id": "e623f35d-311c-4921-96bd-633fe2a18968",
   "metadata": {},
   "outputs": [
    {
     "data": {
      "text/plain": [
       "{'ASSIGNMENT': (1, 2, 3, 4, 5),\n",
       " 'mentor': ['shudhansu', 'krish', 'anurag', 'hayder']}"
      ]
     },
     "execution_count": 36,
     "metadata": {},
     "output_type": "execute_result"
    }
   ],
   "source": [
    "D6"
   ]
  },
  {
   "cell_type": "code",
   "execution_count": 38,
   "id": "c1284790-7998-48dc-a1fd-b23c1e93ccb3",
   "metadata": {},
   "outputs": [
    {
     "data": {
      "text/plain": [
       "['ASSIGNMENT', 'mentor']"
      ]
     },
     "execution_count": 38,
     "metadata": {},
     "output_type": "execute_result"
    }
   ],
   "source": [
    "list(D6.keys())"
   ]
  },
  {
   "cell_type": "code",
   "execution_count": 42,
   "id": "0eaf1620-fec4-42f9-8b47-7b9e445e746d",
   "metadata": {},
   "outputs": [
    {
     "data": {
      "text/plain": [
       "[(1, 2, 3, 4, 5), ['shudhansu', 'krish', 'anurag', 'hayder']]"
      ]
     },
     "execution_count": 42,
     "metadata": {},
     "output_type": "execute_result"
    }
   ],
   "source": [
    "list(D6.values())"
   ]
  },
  {
   "cell_type": "code",
   "execution_count": 44,
   "id": "14937041-5dd3-49c4-80fa-27fb003f86de",
   "metadata": {},
   "outputs": [
    {
     "data": {
      "text/plain": [
       "dict_items([('ASSIGNMENT', (1, 2, 3, 4, 5)), ('mentor', ['shudhansu', 'krish', 'anurag', 'hayder'])])"
      ]
     },
     "execution_count": 44,
     "metadata": {},
     "output_type": "execute_result"
    }
   ],
   "source": [
    "D6.items()"
   ]
  },
  {
   "cell_type": "code",
   "execution_count": 45,
   "id": "4bd3653e-42ef-4fa9-ac3f-e82ef7c4f59e",
   "metadata": {},
   "outputs": [
    {
     "data": {
      "text/plain": [
       "(1, 2, 3, 4, 5)"
      ]
     },
     "execution_count": 45,
     "metadata": {},
     "output_type": "execute_result"
    }
   ],
   "source": [
    "D6.pop(\"ASSIGNMENT\")"
   ]
  },
  {
   "cell_type": "code",
   "execution_count": 46,
   "id": "298d5491-c6f2-4369-97ba-7d141567c3e2",
   "metadata": {},
   "outputs": [
    {
     "data": {
      "text/plain": [
       "{'mentor': ['shudhansu', 'krish', 'anurag', 'hayder']}"
      ]
     },
     "execution_count": 46,
     "metadata": {},
     "output_type": "execute_result"
    }
   ],
   "source": [
    "D6"
   ]
  },
  {
   "cell_type": "code",
   "execution_count": 1,
   "id": "05509d8c-4eb5-4ccc-a52a-12089cd4d38e",
   "metadata": {},
   "outputs": [
    {
     "name": "stdin",
     "output_type": "stream",
     "text": [
      "enter your marks 80\n"
     ]
    },
    {
     "name": "stdout",
     "output_type": "stream",
     "text": [
      "you will be the part of A0\n"
     ]
    }
   ],
   "source": [
    "marks= \n",
    "\n",
    "if marks >= 80:\n",
    " print(\"you will be the part of A0\")\n",
    "elif marks >= 60 and marks <= 80:\n",
    "       print(\"you will be the part of A1\")\n",
    "elif marks >= 40 and marks <= 60:\n",
    "    print(\"you will be the part of A2\")\n",
    "else :   \n",
    "    print(\"you will be the part of A3\")"
   ]
  },
  {
   "cell_type": "code",
   "execution_count": 2,
   "id": "dca96aec-b894-4457-b0f4-4297a2a87f53",
   "metadata": {},
   "outputs": [
    {
     "name": "stdin",
     "output_type": "stream",
     "text": [
      "enter your marks 80\n"
     ]
    }
   ],
   "source": [
    "marks = int(input(\"enter your marks\"))"
   ]
  },
  {
   "cell_type": "code",
   "execution_count": 7,
   "id": "61db95da-ebba-47b5-bf09-6228d8956df0",
   "metadata": {},
   "outputs": [
    {
     "name": "stdin",
     "output_type": "stream",
     "text": [
      "enter your marks 2000\n"
     ]
    },
    {
     "name": "stdout",
     "output_type": "stream",
     "text": [
      "i will not purchase\n"
     ]
    }
   ],
   "source": [
    " price = int(input(\"enter your marks\"))\n",
    " if price  > 1000:\n",
    "    print (\"i will not purchase\")"
   ]
  },
  {
   "cell_type": "code",
   "execution_count": 17,
   "id": "507ea5ba-0ba9-4788-939b-8d7068774ce9",
   "metadata": {},
   "outputs": [],
   "source": [
    "l = [1,2,3,4,5,6,7,8]"
   ]
  },
  {
   "cell_type": "code",
   "execution_count": 9,
   "id": "2ac28695-c2de-4dbe-aada-68a863426fc2",
   "metadata": {},
   "outputs": [
    {
     "data": {
      "text/plain": [
       "2"
      ]
     },
     "execution_count": 9,
     "metadata": {},
     "output_type": "execute_result"
    }
   ],
   "source": [
    "l[0]+1"
   ]
  },
  {
   "cell_type": "code",
   "execution_count": 13,
   "id": "72c7b121-1d5e-4bfa-9dff-2acfe15b61dc",
   "metadata": {},
   "outputs": [],
   "source": [
    "l1=[]"
   ]
  },
  {
   "cell_type": "code",
   "execution_count": 15,
   "id": "f4fbe411-1f1b-4cd4-bb34-d1b8671f0b64",
   "metadata": {},
   "outputs": [],
   "source": [
    "l1.append (l[0]+1)"
   ]
  },
  {
   "cell_type": "code",
   "execution_count": 16,
   "id": "99fac1a9-ad84-4792-a2a8-b4dcd457f120",
   "metadata": {},
   "outputs": [
    {
     "data": {
      "text/plain": [
       "[2]"
      ]
     },
     "execution_count": 16,
     "metadata": {},
     "output_type": "execute_result"
    }
   ],
   "source": [
    "l1"
   ]
  },
  {
   "cell_type": "code",
   "execution_count": 18,
   "id": "9e72e2c8-06c3-4c91-9be2-fdb48da568e3",
   "metadata": {},
   "outputs": [],
   "source": [
    "l = [1,2,3,4,5,6,7,8]"
   ]
  },
  {
   "cell_type": "code",
   "execution_count": 22,
   "id": "91085b93-07e6-4a63-b41c-b6e26b1e1a59",
   "metadata": {},
   "outputs": [
    {
     "name": "stdout",
     "output_type": "stream",
     "text": [
      "1\n",
      "2\n",
      "3\n",
      "4\n",
      "5\n",
      "6\n",
      "7\n",
      "8\n"
     ]
    }
   ],
   "source": [
    "for i in l :\n",
    "    print(i) "
   ]
  },
  {
   "cell_type": "code",
   "execution_count": 23,
   "id": "af55c1be-a63f-4e46-82b4-1c272d39bdd9",
   "metadata": {},
   "outputs": [],
   "source": [
    "l =[\"tanu\",\"pwskills\",\"course\",\"mentor\"]"
   ]
  },
  {
   "cell_type": "code",
   "execution_count": 27,
   "id": "ef4e9daf-e3fb-407d-8be3-936380734bd8",
   "metadata": {},
   "outputs": [
    {
     "name": "stdout",
     "output_type": "stream",
     "text": [
      "tanu\n",
      "pwskills\n",
      "course\n",
      "mentor\n"
     ]
    }
   ],
   "source": [
    "l1 =[]\n",
    "for i in l :\n",
    "    print(i)\n",
    "    l1.append(i.upper())"
   ]
  },
  {
   "cell_type": "code",
   "execution_count": 28,
   "id": "3e92d9b3-8f4c-43eb-8ef3-cc4bfbd08a76",
   "metadata": {},
   "outputs": [
    {
     "data": {
      "text/plain": [
       "['TANU', 'PWSKILLS', 'COURSE', 'MENTOR']"
      ]
     },
     "execution_count": 28,
     "metadata": {},
     "output_type": "execute_result"
    }
   ],
   "source": [
    "l1"
   ]
  },
  {
   "cell_type": "code",
   "execution_count": 7,
   "id": "30c8daf1-00da-4188-b6e6-f1393e1bea0b",
   "metadata": {},
   "outputs": [],
   "source": [
    "l=[1,2,3,4,\"shudh\",\"kumar\",324,34.456,\"abc\"]"
   ]
  },
  {
   "cell_type": "code",
   "execution_count": 14,
   "id": "bcb32e19-7cd2-4919-b1a7-01e394a93408",
   "metadata": {},
   "outputs": [],
   "source": [
    "l1_num =[]\n",
    "l2_str =[]\n",
    "for i in l :\n",
    "    if type(i) == int or type(i) == float :\n",
    "        l1_num .append(i)\n",
    "    else :\n",
    "        l2_str .append(i)   "
   ]
  },
  {
   "cell_type": "code",
   "execution_count": 15,
   "id": "3082a350-27ba-4526-bb54-4a4dce68ccc3",
   "metadata": {},
   "outputs": [
    {
     "data": {
      "text/plain": [
       "[1, 2, 3, 4, 324, 34.456]"
      ]
     },
     "execution_count": 15,
     "metadata": {},
     "output_type": "execute_result"
    }
   ],
   "source": [
    "l1_num"
   ]
  },
  {
   "cell_type": "code",
   "execution_count": 16,
   "id": "85e2c01c-cb87-4d69-8016-2be83c88610d",
   "metadata": {},
   "outputs": [
    {
     "data": {
      "text/plain": [
       "['shudh', 'kumar', 'abc']"
      ]
     },
     "execution_count": 16,
     "metadata": {},
     "output_type": "execute_result"
    }
   ],
   "source": [
    "l2_str"
   ]
  },
  {
   "cell_type": "code",
   "execution_count": null,
   "id": "d8374161-a1a7-49c3-a4b0-528a92988861",
   "metadata": {},
   "outputs": [],
   "source": []
  }
 ],
 "metadata": {
  "kernelspec": {
   "display_name": "Python 3 (ipykernel)",
   "language": "python",
   "name": "python3"
  },
  "language_info": {
   "codemirror_mode": {
    "name": "ipython",
    "version": 3
   },
   "file_extension": ".py",
   "mimetype": "text/x-python",
   "name": "python",
   "nbconvert_exporter": "python",
   "pygments_lexer": "ipython3",
   "version": "3.10.8"
  }
 },
 "nbformat": 4,
 "nbformat_minor": 5
}
